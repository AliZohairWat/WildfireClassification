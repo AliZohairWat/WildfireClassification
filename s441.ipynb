{
 "cells": [
  {
   "cell_type": "code",
   "execution_count": 1,
   "id": "343fb266",
   "metadata": {},
   "outputs": [],
   "source": [
    "import sqlite3\n",
    "import pandas as pd\n",
    "import matplotlib.pyplot as plt\n",
    "%matplotlib inline"
   ]
  },
  {
   "cell_type": "code",
   "execution_count": 2,
   "id": "ea0f41b3",
   "metadata": {},
   "outputs": [],
   "source": [
    "# Read sqlite query results into a pandas DataFrame\n",
    "con = sqlite3.connect(\"data/wildfire.sqlite\")\n",
    "df = pd.read_sql_query(\"SELECT * from fires\", con)"
   ]
  },
  {
   "cell_type": "code",
   "execution_count": 3,
   "id": "f563d983",
   "metadata": {},
   "outputs": [],
   "source": [
    "test = pd.read_sql_query(\"SELECT name FROM sqlite_schema WHERE type='table' ORDER BY name\", con)"
   ]
  },
  {
   "cell_type": "code",
   "execution_count": 54,
   "id": "6e72ca90",
   "metadata": {},
   "outputs": [
    {
     "data": {
      "text/html": [
       "<div>\n",
       "<style scoped>\n",
       "    .dataframe tbody tr th:only-of-type {\n",
       "        vertical-align: middle;\n",
       "    }\n",
       "\n",
       "    .dataframe tbody tr th {\n",
       "        vertical-align: top;\n",
       "    }\n",
       "\n",
       "    .dataframe thead th {\n",
       "        text-align: right;\n",
       "    }\n",
       "</style>\n",
       "<table border=\"1\" class=\"dataframe\">\n",
       "  <thead>\n",
       "    <tr style=\"text-align: right;\">\n",
       "      <th></th>\n",
       "      <th>name</th>\n",
       "    </tr>\n",
       "  </thead>\n",
       "  <tbody>\n",
       "    <tr>\n",
       "      <th>0</th>\n",
       "      <td>ElementaryGeometries</td>\n",
       "    </tr>\n",
       "    <tr>\n",
       "      <th>1</th>\n",
       "      <td>Fires</td>\n",
       "    </tr>\n",
       "    <tr>\n",
       "      <th>2</th>\n",
       "      <td>KNN</td>\n",
       "    </tr>\n",
       "    <tr>\n",
       "      <th>3</th>\n",
       "      <td>NWCG_UnitIDActive_20170109</td>\n",
       "    </tr>\n",
       "    <tr>\n",
       "      <th>4</th>\n",
       "      <td>SpatialIndex</td>\n",
       "    </tr>\n",
       "    <tr>\n",
       "      <th>5</th>\n",
       "      <td>geometry_columns</td>\n",
       "    </tr>\n",
       "    <tr>\n",
       "      <th>6</th>\n",
       "      <td>geometry_columns_auth</td>\n",
       "    </tr>\n",
       "    <tr>\n",
       "      <th>7</th>\n",
       "      <td>geometry_columns_field_infos</td>\n",
       "    </tr>\n",
       "    <tr>\n",
       "      <th>8</th>\n",
       "      <td>geometry_columns_statistics</td>\n",
       "    </tr>\n",
       "    <tr>\n",
       "      <th>9</th>\n",
       "      <td>geometry_columns_time</td>\n",
       "    </tr>\n",
       "    <tr>\n",
       "      <th>10</th>\n",
       "      <td>idx_Fires_Shape</td>\n",
       "    </tr>\n",
       "    <tr>\n",
       "      <th>11</th>\n",
       "      <td>idx_Fires_Shape_node</td>\n",
       "    </tr>\n",
       "    <tr>\n",
       "      <th>12</th>\n",
       "      <td>idx_Fires_Shape_parent</td>\n",
       "    </tr>\n",
       "    <tr>\n",
       "      <th>13</th>\n",
       "      <td>idx_Fires_Shape_rowid</td>\n",
       "    </tr>\n",
       "    <tr>\n",
       "      <th>14</th>\n",
       "      <td>spatial_ref_sys</td>\n",
       "    </tr>\n",
       "    <tr>\n",
       "      <th>15</th>\n",
       "      <td>spatial_ref_sys_aux</td>\n",
       "    </tr>\n",
       "    <tr>\n",
       "      <th>16</th>\n",
       "      <td>spatialite_history</td>\n",
       "    </tr>\n",
       "    <tr>\n",
       "      <th>17</th>\n",
       "      <td>sql_statements_log</td>\n",
       "    </tr>\n",
       "    <tr>\n",
       "      <th>18</th>\n",
       "      <td>sqlite_sequence</td>\n",
       "    </tr>\n",
       "    <tr>\n",
       "      <th>19</th>\n",
       "      <td>views_geometry_columns</td>\n",
       "    </tr>\n",
       "    <tr>\n",
       "      <th>20</th>\n",
       "      <td>views_geometry_columns_auth</td>\n",
       "    </tr>\n",
       "    <tr>\n",
       "      <th>21</th>\n",
       "      <td>views_geometry_columns_field_infos</td>\n",
       "    </tr>\n",
       "    <tr>\n",
       "      <th>22</th>\n",
       "      <td>views_geometry_columns_statistics</td>\n",
       "    </tr>\n",
       "    <tr>\n",
       "      <th>23</th>\n",
       "      <td>virts_geometry_columns</td>\n",
       "    </tr>\n",
       "    <tr>\n",
       "      <th>24</th>\n",
       "      <td>virts_geometry_columns_auth</td>\n",
       "    </tr>\n",
       "    <tr>\n",
       "      <th>25</th>\n",
       "      <td>virts_geometry_columns_field_infos</td>\n",
       "    </tr>\n",
       "    <tr>\n",
       "      <th>26</th>\n",
       "      <td>virts_geometry_columns_statistics</td>\n",
       "    </tr>\n",
       "  </tbody>\n",
       "</table>\n",
       "</div>"
      ],
      "text/plain": [
       "                                  name\n",
       "0                 ElementaryGeometries\n",
       "1                                Fires\n",
       "2                                  KNN\n",
       "3           NWCG_UnitIDActive_20170109\n",
       "4                         SpatialIndex\n",
       "5                     geometry_columns\n",
       "6                geometry_columns_auth\n",
       "7         geometry_columns_field_infos\n",
       "8          geometry_columns_statistics\n",
       "9                geometry_columns_time\n",
       "10                     idx_Fires_Shape\n",
       "11                idx_Fires_Shape_node\n",
       "12              idx_Fires_Shape_parent\n",
       "13               idx_Fires_Shape_rowid\n",
       "14                     spatial_ref_sys\n",
       "15                 spatial_ref_sys_aux\n",
       "16                  spatialite_history\n",
       "17                  sql_statements_log\n",
       "18                     sqlite_sequence\n",
       "19              views_geometry_columns\n",
       "20         views_geometry_columns_auth\n",
       "21  views_geometry_columns_field_infos\n",
       "22   views_geometry_columns_statistics\n",
       "23              virts_geometry_columns\n",
       "24         virts_geometry_columns_auth\n",
       "25  virts_geometry_columns_field_infos\n",
       "26   virts_geometry_columns_statistics"
      ]
     },
     "execution_count": 54,
     "metadata": {},
     "output_type": "execute_result"
    }
   ],
   "source": [
    "test"
   ]
  },
  {
   "cell_type": "code",
   "execution_count": 56,
   "id": "e8a825b7",
   "metadata": {},
   "outputs": [
    {
     "data": {
      "text/plain": [
       "Index(['OBJECTID', 'UnitId', 'GeographicArea', 'Gacc', 'WildlandRole',\n",
       "       'UnitType', 'Department', 'Agency', 'Parent', 'Country', 'State',\n",
       "       'Code', 'Name'],\n",
       "      dtype='object')"
      ]
     },
     "execution_count": 56,
     "metadata": {},
     "output_type": "execute_result"
    }
   ],
   "source": [
    "knn = pd.read_sql_query(\"SELECT * from NWCG_UnitIDActive_20170109\", con)\n",
    "knn.columns"
   ]
  },
  {
   "cell_type": "code",
   "execution_count": 57,
   "id": "924c3524",
   "metadata": {},
   "outputs": [
    {
     "data": {
      "text/html": [
       "<div>\n",
       "<style scoped>\n",
       "    .dataframe tbody tr th:only-of-type {\n",
       "        vertical-align: middle;\n",
       "    }\n",
       "\n",
       "    .dataframe tbody tr th {\n",
       "        vertical-align: top;\n",
       "    }\n",
       "\n",
       "    .dataframe thead th {\n",
       "        text-align: right;\n",
       "    }\n",
       "</style>\n",
       "<table border=\"1\" class=\"dataframe\">\n",
       "  <thead>\n",
       "    <tr style=\"text-align: right;\">\n",
       "      <th></th>\n",
       "      <th>OBJECTID</th>\n",
       "      <th>UnitId</th>\n",
       "      <th>GeographicArea</th>\n",
       "      <th>Gacc</th>\n",
       "      <th>WildlandRole</th>\n",
       "      <th>UnitType</th>\n",
       "      <th>Department</th>\n",
       "      <th>Agency</th>\n",
       "      <th>Parent</th>\n",
       "      <th>Country</th>\n",
       "      <th>State</th>\n",
       "      <th>Code</th>\n",
       "      <th>Name</th>\n",
       "    </tr>\n",
       "  </thead>\n",
       "  <tbody>\n",
       "    <tr>\n",
       "      <th>0</th>\n",
       "      <td>1</td>\n",
       "      <td>USAKCAN</td>\n",
       "      <td>AK</td>\n",
       "      <td>USAKACC</td>\n",
       "      <td>Resource Provider Only</td>\n",
       "      <td>Non-Government</td>\n",
       "      <td>NG</td>\n",
       "      <td>ANC</td>\n",
       "      <td>None</td>\n",
       "      <td>US</td>\n",
       "      <td>AK</td>\n",
       "      <td>CAN</td>\n",
       "      <td>Calista Regional Native Corporation</td>\n",
       "    </tr>\n",
       "    <tr>\n",
       "      <th>1</th>\n",
       "      <td>2</td>\n",
       "      <td>USAKCEKX</td>\n",
       "      <td>AK</td>\n",
       "      <td>USAKACC</td>\n",
       "      <td>Incident Host Geographic</td>\n",
       "      <td>US County/Local</td>\n",
       "      <td>AK</td>\n",
       "      <td>C&amp;L</td>\n",
       "      <td>None</td>\n",
       "      <td>US</td>\n",
       "      <td>AK</td>\n",
       "      <td>CEKX</td>\n",
       "      <td>Central Emergency Services</td>\n",
       "    </tr>\n",
       "    <tr>\n",
       "      <th>2</th>\n",
       "      <td>3</td>\n",
       "      <td>USAKCFFX</td>\n",
       "      <td>AK</td>\n",
       "      <td>USAKACC</td>\n",
       "      <td>Incident Host Geographic</td>\n",
       "      <td>US County/Local</td>\n",
       "      <td>AK</td>\n",
       "      <td>C&amp;L</td>\n",
       "      <td>None</td>\n",
       "      <td>US</td>\n",
       "      <td>AK</td>\n",
       "      <td>CFFX</td>\n",
       "      <td>City Fairbanks Fire Department</td>\n",
       "    </tr>\n",
       "    <tr>\n",
       "      <th>3</th>\n",
       "      <td>4</td>\n",
       "      <td>USAKCFMX</td>\n",
       "      <td>AK</td>\n",
       "      <td>USAKACC</td>\n",
       "      <td>Incident Host Geographic</td>\n",
       "      <td>US County/Local</td>\n",
       "      <td>AK</td>\n",
       "      <td>C&amp;L</td>\n",
       "      <td>None</td>\n",
       "      <td>US</td>\n",
       "      <td>AK</td>\n",
       "      <td>CFMX</td>\n",
       "      <td>Central Mat-Su Fire Department</td>\n",
       "    </tr>\n",
       "    <tr>\n",
       "      <th>4</th>\n",
       "      <td>5</td>\n",
       "      <td>USAKCFQ</td>\n",
       "      <td>AK</td>\n",
       "      <td>USAKACC</td>\n",
       "      <td>Incident Host Geographic</td>\n",
       "      <td>US Federal</td>\n",
       "      <td>DOD</td>\n",
       "      <td>USAF</td>\n",
       "      <td>None</td>\n",
       "      <td>US</td>\n",
       "      <td>AK</td>\n",
       "      <td>CFQ</td>\n",
       "      <td>Clear Air Force Station</td>\n",
       "    </tr>\n",
       "  </tbody>\n",
       "</table>\n",
       "</div>"
      ],
      "text/plain": [
       "   OBJECTID    UnitId GeographicArea     Gacc              WildlandRole  \\\n",
       "0         1   USAKCAN             AK  USAKACC    Resource Provider Only   \n",
       "1         2  USAKCEKX             AK  USAKACC  Incident Host Geographic   \n",
       "2         3  USAKCFFX             AK  USAKACC  Incident Host Geographic   \n",
       "3         4  USAKCFMX             AK  USAKACC  Incident Host Geographic   \n",
       "4         5   USAKCFQ             AK  USAKACC  Incident Host Geographic   \n",
       "\n",
       "          UnitType Department Agency Parent Country State  Code  \\\n",
       "0   Non-Government         NG    ANC   None      US    AK   CAN   \n",
       "1  US County/Local         AK    C&L   None      US    AK  CEKX   \n",
       "2  US County/Local         AK    C&L   None      US    AK  CFFX   \n",
       "3  US County/Local         AK    C&L   None      US    AK  CFMX   \n",
       "4       US Federal        DOD   USAF   None      US    AK   CFQ   \n",
       "\n",
       "                                  Name  \n",
       "0  Calista Regional Native Corporation  \n",
       "1           Central Emergency Services  \n",
       "2       City Fairbanks Fire Department  \n",
       "3       Central Mat-Su Fire Department  \n",
       "4              Clear Air Force Station  "
      ]
     },
     "execution_count": 57,
     "metadata": {},
     "output_type": "execute_result"
    }
   ],
   "source": [
    "knn.head()"
   ]
  },
  {
   "cell_type": "code",
   "execution_count": 4,
   "id": "d0c24973",
   "metadata": {},
   "outputs": [
    {
     "data": {
      "text/plain": [
       "(1880465, 39)"
      ]
     },
     "execution_count": 4,
     "metadata": {},
     "output_type": "execute_result"
    }
   ],
   "source": [
    "df.shape"
   ]
  },
  {
   "cell_type": "code",
   "execution_count": 5,
   "id": "ec1ec60d",
   "metadata": {},
   "outputs": [
    {
     "data": {
      "text/plain": [
       "Index(['OBJECTID', 'FOD_ID', 'FPA_ID', 'SOURCE_SYSTEM_TYPE', 'SOURCE_SYSTEM',\n",
       "       'NWCG_REPORTING_AGENCY', 'NWCG_REPORTING_UNIT_ID',\n",
       "       'NWCG_REPORTING_UNIT_NAME', 'SOURCE_REPORTING_UNIT',\n",
       "       'SOURCE_REPORTING_UNIT_NAME', 'LOCAL_FIRE_REPORT_ID',\n",
       "       'LOCAL_INCIDENT_ID', 'FIRE_CODE', 'FIRE_NAME',\n",
       "       'ICS_209_INCIDENT_NUMBER', 'ICS_209_NAME', 'MTBS_ID', 'MTBS_FIRE_NAME',\n",
       "       'COMPLEX_NAME', 'FIRE_YEAR', 'DISCOVERY_DATE', 'DISCOVERY_DOY',\n",
       "       'DISCOVERY_TIME', 'STAT_CAUSE_CODE', 'STAT_CAUSE_DESCR', 'CONT_DATE',\n",
       "       'CONT_DOY', 'CONT_TIME', 'FIRE_SIZE', 'FIRE_SIZE_CLASS', 'LATITUDE',\n",
       "       'LONGITUDE', 'OWNER_CODE', 'OWNER_DESCR', 'STATE', 'COUNTY',\n",
       "       'FIPS_CODE', 'FIPS_NAME', 'Shape'],\n",
       "      dtype='object')"
      ]
     },
     "execution_count": 5,
     "metadata": {},
     "output_type": "execute_result"
    }
   ],
   "source": [
    "df.columns"
   ]
  },
  {
   "cell_type": "code",
   "execution_count": 6,
   "id": "a0a1d088",
   "metadata": {},
   "outputs": [
    {
     "data": {
      "text/plain": [
       "OBJECTID                            0\n",
       "FOD_ID                              0\n",
       "FPA_ID                              0\n",
       "SOURCE_SYSTEM_TYPE                  0\n",
       "SOURCE_SYSTEM                       0\n",
       "NWCG_REPORTING_AGENCY               0\n",
       "NWCG_REPORTING_UNIT_ID              0\n",
       "NWCG_REPORTING_UNIT_NAME            0\n",
       "SOURCE_REPORTING_UNIT               0\n",
       "SOURCE_REPORTING_UNIT_NAME          0\n",
       "LOCAL_FIRE_REPORT_ID          1459286\n",
       "LOCAL_INCIDENT_ID              820821\n",
       "FIRE_CODE                     1555636\n",
       "FIRE_NAME                      957189\n",
       "ICS_209_INCIDENT_NUMBER       1854748\n",
       "ICS_209_NAME                  1854748\n",
       "MTBS_ID                       1869462\n",
       "MTBS_FIRE_NAME                1869462\n",
       "COMPLEX_NAME                  1875282\n",
       "FIRE_YEAR                           0\n",
       "DISCOVERY_DATE                      0\n",
       "DISCOVERY_DOY                       0\n",
       "DISCOVERY_TIME                 882638\n",
       "STAT_CAUSE_CODE                     0\n",
       "STAT_CAUSE_DESCR                    0\n",
       "CONT_DATE                      891531\n",
       "CONT_DOY                       891531\n",
       "CONT_TIME                      972173\n",
       "FIRE_SIZE                           0\n",
       "FIRE_SIZE_CLASS                     0\n",
       "LATITUDE                            0\n",
       "LONGITUDE                           0\n",
       "OWNER_CODE                          0\n",
       "OWNER_DESCR                         0\n",
       "STATE                               0\n",
       "COUNTY                         678148\n",
       "FIPS_CODE                      678148\n",
       "FIPS_NAME                      678148\n",
       "Shape                               0\n",
       "dtype: int64"
      ]
     },
     "execution_count": 6,
     "metadata": {},
     "output_type": "execute_result"
    }
   ],
   "source": [
    "df.isna().sum()"
   ]
  },
  {
   "cell_type": "code",
   "execution_count": 7,
   "id": "4c61862c",
   "metadata": {},
   "outputs": [
    {
     "data": {
      "text/plain": [
       "0"
      ]
     },
     "execution_count": 7,
     "metadata": {},
     "output_type": "execute_result"
    }
   ],
   "source": [
    "df.duplicated().sum()"
   ]
  },
  {
   "cell_type": "code",
   "execution_count": 52,
   "id": "7c95b564",
   "metadata": {},
   "outputs": [
    {
     "data": {
      "text/plain": [
       "52"
      ]
     },
     "execution_count": 52,
     "metadata": {},
     "output_type": "execute_result"
    }
   ],
   "source": [
    "#len(df.OWNER_DESC.unique())\n",
    "len(df.STATE.unique())"
   ]
  },
  {
   "cell_type": "code",
   "execution_count": 47,
   "id": "bab6d72d",
   "metadata": {},
   "outputs": [
    {
     "data": {
      "text/plain": [
       "array(['USFS', 'STATE OR PRIVATE', 'MISSING/NOT SPECIFIED',\n",
       "       'OTHER FEDERAL', 'BIA', 'FWS', 'TRIBAL', 'PRIVATE', 'STATE', 'BLM',\n",
       "       'NPS', 'BOR', 'FOREIGN', 'MUNICIPAL/LOCAL', 'COUNTY',\n",
       "       'UNDEFINED FEDERAL'], dtype=object)"
      ]
     },
     "execution_count": 47,
     "metadata": {},
     "output_type": "execute_result"
    }
   ],
   "source": [
    "df.OWNER_DESCR.unique()"
   ]
  },
  {
   "cell_type": "code",
   "execution_count": 59,
   "id": "6a7ff955",
   "metadata": {},
   "outputs": [
    {
     "data": {
      "text/plain": [
       "array(['FED', 'NONFED', 'INTERAGCY'], dtype=object)"
      ]
     },
     "execution_count": 59,
     "metadata": {},
     "output_type": "execute_result"
    }
   ],
   "source": [
    "df.SOURCE_SYSTEM_TYPE.unique()"
   ]
  },
  {
   "cell_type": "code",
   "execution_count": 12,
   "id": "6fdb9207",
   "metadata": {},
   "outputs": [
    {
     "data": {
      "text/html": [
       "<div>\n",
       "<style scoped>\n",
       "    .dataframe tbody tr th:only-of-type {\n",
       "        vertical-align: middle;\n",
       "    }\n",
       "\n",
       "    .dataframe tbody tr th {\n",
       "        vertical-align: top;\n",
       "    }\n",
       "\n",
       "    .dataframe thead th {\n",
       "        text-align: right;\n",
       "    }\n",
       "</style>\n",
       "<table border=\"1\" class=\"dataframe\">\n",
       "  <thead>\n",
       "    <tr style=\"text-align: right;\">\n",
       "      <th></th>\n",
       "      <th>OBJECTID</th>\n",
       "      <th>FOD_ID</th>\n",
       "      <th>FPA_ID</th>\n",
       "      <th>SOURCE_SYSTEM_TYPE</th>\n",
       "      <th>SOURCE_SYSTEM</th>\n",
       "      <th>NWCG_REPORTING_AGENCY</th>\n",
       "      <th>NWCG_REPORTING_UNIT_ID</th>\n",
       "      <th>NWCG_REPORTING_UNIT_NAME</th>\n",
       "      <th>SOURCE_REPORTING_UNIT</th>\n",
       "      <th>SOURCE_REPORTING_UNIT_NAME</th>\n",
       "      <th>...</th>\n",
       "      <th>FIRE_SIZE_CLASS</th>\n",
       "      <th>LATITUDE</th>\n",
       "      <th>LONGITUDE</th>\n",
       "      <th>OWNER_CODE</th>\n",
       "      <th>OWNER_DESCR</th>\n",
       "      <th>STATE</th>\n",
       "      <th>COUNTY</th>\n",
       "      <th>FIPS_CODE</th>\n",
       "      <th>FIPS_NAME</th>\n",
       "      <th>Shape</th>\n",
       "    </tr>\n",
       "    <tr>\n",
       "      <th>FIRE_YEAR</th>\n",
       "      <th></th>\n",
       "      <th></th>\n",
       "      <th></th>\n",
       "      <th></th>\n",
       "      <th></th>\n",
       "      <th></th>\n",
       "      <th></th>\n",
       "      <th></th>\n",
       "      <th></th>\n",
       "      <th></th>\n",
       "      <th></th>\n",
       "      <th></th>\n",
       "      <th></th>\n",
       "      <th></th>\n",
       "      <th></th>\n",
       "      <th></th>\n",
       "      <th></th>\n",
       "      <th></th>\n",
       "      <th></th>\n",
       "      <th></th>\n",
       "      <th></th>\n",
       "    </tr>\n",
       "  </thead>\n",
       "  <tbody>\n",
       "    <tr>\n",
       "      <th>1992</th>\n",
       "      <td>67975</td>\n",
       "      <td>67975</td>\n",
       "      <td>67975</td>\n",
       "      <td>67975</td>\n",
       "      <td>67975</td>\n",
       "      <td>67975</td>\n",
       "      <td>67975</td>\n",
       "      <td>67975</td>\n",
       "      <td>67975</td>\n",
       "      <td>67975</td>\n",
       "      <td>...</td>\n",
       "      <td>67975</td>\n",
       "      <td>67975</td>\n",
       "      <td>67975</td>\n",
       "      <td>67975</td>\n",
       "      <td>67975</td>\n",
       "      <td>67975</td>\n",
       "      <td>33783</td>\n",
       "      <td>33783</td>\n",
       "      <td>33783</td>\n",
       "      <td>67975</td>\n",
       "    </tr>\n",
       "    <tr>\n",
       "      <th>1993</th>\n",
       "      <td>61989</td>\n",
       "      <td>61989</td>\n",
       "      <td>61989</td>\n",
       "      <td>61989</td>\n",
       "      <td>61989</td>\n",
       "      <td>61989</td>\n",
       "      <td>61989</td>\n",
       "      <td>61989</td>\n",
       "      <td>61989</td>\n",
       "      <td>61989</td>\n",
       "      <td>...</td>\n",
       "      <td>61989</td>\n",
       "      <td>61989</td>\n",
       "      <td>61989</td>\n",
       "      <td>61989</td>\n",
       "      <td>61989</td>\n",
       "      <td>61989</td>\n",
       "      <td>33992</td>\n",
       "      <td>33992</td>\n",
       "      <td>33992</td>\n",
       "      <td>61989</td>\n",
       "    </tr>\n",
       "    <tr>\n",
       "      <th>1994</th>\n",
       "      <td>75955</td>\n",
       "      <td>75955</td>\n",
       "      <td>75955</td>\n",
       "      <td>75955</td>\n",
       "      <td>75955</td>\n",
       "      <td>75955</td>\n",
       "      <td>75955</td>\n",
       "      <td>75955</td>\n",
       "      <td>75955</td>\n",
       "      <td>75955</td>\n",
       "      <td>...</td>\n",
       "      <td>75955</td>\n",
       "      <td>75955</td>\n",
       "      <td>75955</td>\n",
       "      <td>75955</td>\n",
       "      <td>75955</td>\n",
       "      <td>75955</td>\n",
       "      <td>36098</td>\n",
       "      <td>36098</td>\n",
       "      <td>36098</td>\n",
       "      <td>75955</td>\n",
       "    </tr>\n",
       "    <tr>\n",
       "      <th>1995</th>\n",
       "      <td>71472</td>\n",
       "      <td>71472</td>\n",
       "      <td>71472</td>\n",
       "      <td>71472</td>\n",
       "      <td>71472</td>\n",
       "      <td>71472</td>\n",
       "      <td>71472</td>\n",
       "      <td>71472</td>\n",
       "      <td>71472</td>\n",
       "      <td>71472</td>\n",
       "      <td>...</td>\n",
       "      <td>71472</td>\n",
       "      <td>71472</td>\n",
       "      <td>71472</td>\n",
       "      <td>71472</td>\n",
       "      <td>71472</td>\n",
       "      <td>71472</td>\n",
       "      <td>40821</td>\n",
       "      <td>40821</td>\n",
       "      <td>40821</td>\n",
       "      <td>71472</td>\n",
       "    </tr>\n",
       "    <tr>\n",
       "      <th>1996</th>\n",
       "      <td>75574</td>\n",
       "      <td>75574</td>\n",
       "      <td>75574</td>\n",
       "      <td>75574</td>\n",
       "      <td>75574</td>\n",
       "      <td>75574</td>\n",
       "      <td>75574</td>\n",
       "      <td>75574</td>\n",
       "      <td>75574</td>\n",
       "      <td>75574</td>\n",
       "      <td>...</td>\n",
       "      <td>75574</td>\n",
       "      <td>75574</td>\n",
       "      <td>75574</td>\n",
       "      <td>75574</td>\n",
       "      <td>75574</td>\n",
       "      <td>75574</td>\n",
       "      <td>41502</td>\n",
       "      <td>41502</td>\n",
       "      <td>41502</td>\n",
       "      <td>75574</td>\n",
       "    </tr>\n",
       "  </tbody>\n",
       "</table>\n",
       "<p>5 rows × 38 columns</p>\n",
       "</div>"
      ],
      "text/plain": [
       "           OBJECTID  FOD_ID  FPA_ID  SOURCE_SYSTEM_TYPE  SOURCE_SYSTEM  \\\n",
       "FIRE_YEAR                                                                \n",
       "1992          67975   67975   67975               67975          67975   \n",
       "1993          61989   61989   61989               61989          61989   \n",
       "1994          75955   75955   75955               75955          75955   \n",
       "1995          71472   71472   71472               71472          71472   \n",
       "1996          75574   75574   75574               75574          75574   \n",
       "\n",
       "           NWCG_REPORTING_AGENCY  NWCG_REPORTING_UNIT_ID  \\\n",
       "FIRE_YEAR                                                  \n",
       "1992                       67975                   67975   \n",
       "1993                       61989                   61989   \n",
       "1994                       75955                   75955   \n",
       "1995                       71472                   71472   \n",
       "1996                       75574                   75574   \n",
       "\n",
       "           NWCG_REPORTING_UNIT_NAME  SOURCE_REPORTING_UNIT  \\\n",
       "FIRE_YEAR                                                    \n",
       "1992                          67975                  67975   \n",
       "1993                          61989                  61989   \n",
       "1994                          75955                  75955   \n",
       "1995                          71472                  71472   \n",
       "1996                          75574                  75574   \n",
       "\n",
       "           SOURCE_REPORTING_UNIT_NAME  ...  FIRE_SIZE_CLASS  LATITUDE  \\\n",
       "FIRE_YEAR                              ...                              \n",
       "1992                            67975  ...            67975     67975   \n",
       "1993                            61989  ...            61989     61989   \n",
       "1994                            75955  ...            75955     75955   \n",
       "1995                            71472  ...            71472     71472   \n",
       "1996                            75574  ...            75574     75574   \n",
       "\n",
       "           LONGITUDE  OWNER_CODE  OWNER_DESCR  STATE  COUNTY  FIPS_CODE  \\\n",
       "FIRE_YEAR                                                                 \n",
       "1992           67975       67975        67975  67975   33783      33783   \n",
       "1993           61989       61989        61989  61989   33992      33992   \n",
       "1994           75955       75955        75955  75955   36098      36098   \n",
       "1995           71472       71472        71472  71472   40821      40821   \n",
       "1996           75574       75574        75574  75574   41502      41502   \n",
       "\n",
       "           FIPS_NAME  Shape  \n",
       "FIRE_YEAR                    \n",
       "1992           33783  67975  \n",
       "1993           33992  61989  \n",
       "1994           36098  75955  \n",
       "1995           40821  71472  \n",
       "1996           41502  75574  \n",
       "\n",
       "[5 rows x 38 columns]"
      ]
     },
     "execution_count": 12,
     "metadata": {},
     "output_type": "execute_result"
    }
   ],
   "source": [
    "yearly = df.groupby(\"FIRE_YEAR\").count()\n",
    "yearly.head()"
   ]
  },
  {
   "cell_type": "code",
   "execution_count": 13,
   "id": "a6638e36",
   "metadata": {},
   "outputs": [
    {
     "data": {
      "text/plain": [
       "<Axes: >"
      ]
     },
     "execution_count": 13,
     "metadata": {},
     "output_type": "execute_result"
    },
    {
     "data": {
      "image/png": "[encoded data removed]",
      "text/plain": [
       "<Figure size 640x480 with 1 Axes>"
      ]
     },
     "metadata": {},
     "output_type": "display_data"
    }
   ],
   "source": [
    "df[\"STAT_CAUSE_DESCR\"].value_counts().plot.bar()"
   ]
  },
  {
   "cell_type": "code",
   "execution_count": 5,
   "id": "d2f067e3",
   "metadata": {},
   "outputs": [],
   "source": [
    "df1 = df[(df[\"STAT_CAUSE_DESCR\"] != \"Missing/Undefined\") & (df[\"STAT_CAUSE_DESCR\"] != \"Miscellaneous\")]"
   ]
  },
  {
   "cell_type": "code",
   "execution_count": 60,
   "id": "80c172ca",
   "metadata": {},
   "outputs": [
    {
     "data": {
      "text/plain": [
       "(1389937, 39)"
      ]
     },
     "execution_count": 60,
     "metadata": {},
     "output_type": "execute_result"
    }
   ],
   "source": [
    "df1.shape"
   ]
  },
  {
   "cell_type": "code",
   "execution_count": 6,
   "id": "3e7aea57",
   "metadata": {},
   "outputs": [
    {
     "data": {
      "text/plain": [
       "<Axes: >"
      ]
     },
     "execution_count": 6,
     "metadata": {},
     "output_type": "execute_result"
    },
    {
     "data": {
      "image/png": "[encoded data removed]",
      "text/plain": [
       "<Figure size 640x480 with 1 Axes>"
      ]
     },
     "metadata": {},
     "output_type": "display_data"
    }
   ],
   "source": [
    "other_causes = df1[\"STAT_CAUSE_DESCR\"].value_counts()\n",
    "other_causes.plot.bar()"
   ]
  },
  {
   "cell_type": "code",
   "execution_count": 21,
   "id": "eaf07acd",
   "metadata": {},
   "outputs": [],
   "source": [
    "from sklearn.model_selection import train_test_split\n",
    "xVal=df1.loc[:,df1.columns != 'STAT_CAUSE_DESCR']\n",
    "yVal=df1['STAT_CAUSE_DESCR']\n",
    "\n",
    "#Training and test set split\n",
    "xTrain,xTest,yTrain,yTest=train_test_split(xVal,yVal,\\\n",
    "                           test_size=0.1,random_state =441)"
   ]
  },
  {
   "cell_type": "code",
   "execution_count": 9,
   "id": "7536e03d",
   "metadata": {},
   "outputs": [
    {
     "data": {
      "text/plain": [
       "array(['Lightning', 'Debris Burning', 'Campfire', 'Equipment Use',\n",
       "       'Arson', 'Children', 'Railroad', 'Smoking', 'Powerline',\n",
       "       'Structure', 'Fireworks'], dtype=object)"
      ]
     },
     "execution_count": 9,
     "metadata": {},
     "output_type": "execute_result"
    }
   ],
   "source": [
    "df1.STAT_CAUSE_DESCR.unique()"
   ]
  },
  {
   "cell_type": "code",
   "execution_count": 22,
   "id": "5081bc4f",
   "metadata": {},
   "outputs": [
    {
     "data": {
      "text/plain": [
       "Debris Burning    386152\n",
       "Arson             253049\n",
       "Lightning         250872\n",
       "Equipment Use     132795\n",
       "Campfire           68602\n",
       "Children           55060\n",
       "Smoking            47558\n",
       "Railroad           30080\n",
       "Powerline          12979\n",
       "Fireworks          10373\n",
       "Structure           3423\n",
       "Name: STAT_CAUSE_DESCR, dtype: int64"
      ]
     },
     "execution_count": 22,
     "metadata": {},
     "output_type": "execute_result"
    }
   ],
   "source": [
    "counts = yTrain.value_counts()\n",
    "counts"
   ]
  },
  {
   "cell_type": "code",
   "execution_count": 23,
   "id": "e16e3024",
   "metadata": {},
   "outputs": [
    {
     "data": {
      "text/plain": [
       "Debris Burning    386152\n",
       "Arson             253049\n",
       "Lightning         250872\n",
       "Equipment Use     132795\n",
       "Campfire           68602\n",
       "Children           55060\n",
       "Smoking            47558\n",
       "Railroad           30080\n",
       "Powerline          12979\n",
       "Fireworks          10373\n",
       "Structure          10000\n",
       "Name: STAT_CAUSE_DESCR, dtype: int64"
      ]
     },
     "execution_count": 23,
     "metadata": {},
     "output_type": "execute_result"
    }
   ],
   "source": [
    "from imblearn.over_sampling import RandomOverSampler\n",
    "\n",
    "#Perform undersampling\n",
    "OverSampleRatio = {\n",
    "    'Lightning' : counts['Lightning'], 'Debris Burning' : counts['Debris Burning'], 'Campfire' : counts['Campfire'], 'Equipment Use' : counts['Equipment Use'],\n",
    "       'Arson' : counts['Arson'], 'Children' : counts['Children'], 'Railroad' : counts['Railroad'], 'Smoking' : counts['Smoking'], 'Powerline' : counts['Powerline'],\n",
    "       'Fireworks' : counts['Fireworks'], 'Structure' : 10000\n",
    "}\n",
    "\n",
    "newSampStrat=RandomOverSampler(sampling_strategy=OverSampleRatio,random_state=441) #Goal balance all classes\n",
    "xTrain,yTrain=newSampStrat.fit_resample(xTrain,yTrain) #perform the balancing newX and newY are balanced X and y\n",
    "yTrain.value_counts()  #print result showing the nunmber of observation in each class"
   ]
  },
  {
   "cell_type": "code",
   "execution_count": null,
   "id": "3eafb48d",
   "metadata": {},
   "outputs": [],
   "source": [
    "counts = yTrain.value_counts()\n",
    "counts"
   ]
  },
  {
   "cell_type": "code",
   "execution_count": 25,
   "id": "6717f811",
   "metadata": {},
   "outputs": [
    {
     "data": {
      "text/plain": [
       "Arson             10000\n",
       "Campfire          10000\n",
       "Children          10000\n",
       "Debris Burning    10000\n",
       "Equipment Use     10000\n",
       "Fireworks         10000\n",
       "Lightning         10000\n",
       "Powerline         10000\n",
       "Railroad          10000\n",
       "Smoking           10000\n",
       "Structure         10000\n",
       "Name: STAT_CAUSE_DESCR, dtype: int64"
      ]
     },
     "execution_count": 25,
     "metadata": {},
     "output_type": "execute_result"
    }
   ],
   "source": [
    "from imblearn.under_sampling import RandomUnderSampler\n",
    "# UnderSampleRatio = {\n",
    "#     'Lightning' : counts['Lightning'], 'Debris Burning' : counts['Debris Burning'], 'Campfire' : counts['Campfire'], 'Equipment Use' : counts['Equipment Use'],\n",
    "#        'Arson' : counts['Arson'], 'Children' : counts['Children'], 'Railroad' : counts['Railroad'], 'Smoking' : counts['Smoking'], 'Powerline' : counts['Powerline'],\n",
    "#        'Structure' : counts['Structure'], 'Fireworks' : 10000\n",
    "# }\n",
    "\n",
    "newSampStrat=RandomUnderSampler(sampling_strategy='not minority',random_state=441) #Goal balance all classes\n",
    "xTrain,yTrain=newSampStrat.fit_resample(xTrain,yTrain) #perform the balancing newX and newY are balanced X and y\n",
    "yTrain.value_counts() "
   ]
  },
  {
   "cell_type": "code",
   "execution_count": 32,
   "id": "ff155e50",
   "metadata": {},
   "outputs": [
    {
     "name": "stderr",
     "output_type": "stream",
     "text": [
      "C:\\Users\\User\\AppData\\Local\\Temp\\ipykernel_2388\\4224800094.py:2: SettingWithCopyWarning: \n",
      "A value is trying to be set on a copy of a slice from a DataFrame.\n",
      "Try using .loc[row_indexer,col_indexer] = value instead\n",
      "\n",
      "See the caveats in the documentation: https://pandas.pydata.org/pandas-docs/stable/user_guide/indexing.html#returning-a-view-versus-a-copy\n",
      "  df1.STAT_CAUSE_DESCR = df1.STAT_CAUSE_DESCR.replace({\"Children\" : \"Other\",\n"
     ]
    },
    {
     "data": {
      "text/plain": [
       "<Axes: >"
      ]
     },
     "execution_count": 32,
     "metadata": {},
     "output_type": "execute_result"
    },
    {
     "data": {
      "image/png": "[encoded data removed]",
      "text/plain": [
       "<Figure size 640x480 with 1 Axes>"
      ]
     },
     "metadata": {},
     "output_type": "display_data"
    }
   ],
   "source": [
    "# Map bottom 6 classes to \"Other\"\n",
    "df1.STAT_CAUSE_DESCR = df1.STAT_CAUSE_DESCR.replace({\"Children\" : \"Other\",\n",
    "                                                 \"Smoking\" : \"Other\",\n",
    "                                                 \"Railroad\" : \"Other\",\n",
    "                                                 \"Powerline\" : \"Other\",\n",
    "                                                 \"Fireworks\" : \"Other\",\n",
    "                                                 \"Structure\" : \"Other\"})\n",
    "df1[\"STAT_CAUSE_DESCR\"].value_counts().plot.bar()"
   ]
  }
 ],
 "metadata": {
  "kernelspec": {
   "display_name": "Python 3 (ipykernel)",
   "language": "python",
   "name": "python3"
  },
  "language_info": {
   "codemirror_mode": {
    "name": "ipython",
    "version": 3
   },
   "file_extension": ".py",
   "mimetype": "text/x-python",
   "name": "python",
   "nbconvert_exporter": "python",
   "pygments_lexer": "ipython3",
   "version": "3.11.0"
  }
 },
 "nbformat": 4,
 "nbformat_minor": 5
}
