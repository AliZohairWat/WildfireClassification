{
 "cells": [
  {
   "cell_type": "code",
   "execution_count": 32,
   "metadata": {},
   "outputs": [],
   "source": [
    "#Load Libraries\n",
    "import pandas as pd\n",
    "import numpy as np\n",
    "import sqlite3 as sqlite3\n",
    "import numpy as np\n",
    "import pickle\n",
    "from sklearn.model_selection import train_test_split\n",
    "from imblearn.under_sampling import RandomUnderSampler\n",
    "from imblearn.over_sampling import RandomOverSampler\n",
    "from sklearn.metrics import accuracy_score\n",
    "from sklearn import svm\n",
    "from sklearn.model_selection import train_test_split, GridSearchCV, KFold\n",
    "from sklearn.metrics import confusion_matrix, ConfusionMatrixDisplay\n",
    "from sklearn.preprocessing import StandardScaler\n",
    "from sklearn.pipeline import Pipeline\n",
    "from sklearn.multiclass import OneVsRestClassifier"
   ]
  },
  {
   "cell_type": "code",
   "execution_count": 2,
   "metadata": {},
   "outputs": [],
   "source": [
    "# Load the data into a DataFrame\n",
    "\n",
    "con = sqlite3.connect(\"data/wildfire.sqlite\")\n",
    "fires = pd.read_sql_query(\n",
    "    \"select NWCG_REPORTING_AGENCY,CONT_DATE - DISCOVERY_DATE as CONT_TIME, CONT_DOY, \\\n",
    "    LONGITUDE,LATITUDE, SOURCE_SYSTEM_TYPE,DISCOVERY_DATE, FIRE_YEAR,\\\n",
    "    DISCOVERY_DOY,STAT_CAUSE_DESCR,FIRE_SIZE from fires\", con)\n",
    "con.close()"
   ]
  },
  {
   "cell_type": "code",
   "execution_count": 3,
   "metadata": {},
   "outputs": [
    {
     "name": "stdout",
     "output_type": "stream",
     "text": [
      "<class 'pandas.core.frame.DataFrame'>\n",
      "RangeIndex: 1880465 entries, 0 to 1880464\n",
      "Data columns (total 11 columns):\n",
      " #   Column                 Dtype  \n",
      "---  ------                 -----  \n",
      " 0   NWCG_REPORTING_AGENCY  object \n",
      " 1   CONT_TIME              float64\n",
      " 2   CONT_DOY               float64\n",
      " 3   LONGITUDE              float64\n",
      " 4   LATITUDE               float64\n",
      " 5   SOURCE_SYSTEM_TYPE     object \n",
      " 6   DISCOVERY_DATE         float64\n",
      " 7   FIRE_YEAR              int64  \n",
      " 8   DISCOVERY_DOY          int64  \n",
      " 9   STAT_CAUSE_DESCR       object \n",
      " 10  FIRE_SIZE              float64\n",
      "dtypes: float64(6), int64(2), object(3)\n",
      "memory usage: 157.8+ MB\n"
     ]
    }
   ],
   "source": [
    "fires.info()"
   ]
  },
  {
   "cell_type": "code",
   "execution_count": 4,
   "metadata": {},
   "outputs": [
    {
     "data": {
      "text/plain": [
       "(1874278, 11)"
      ]
     },
     "execution_count": 4,
     "metadata": {},
     "output_type": "execute_result"
    }
   ],
   "source": [
    "fires = fires.drop_duplicates()\n",
    "fires.shape"
   ]
  },
  {
   "cell_type": "code",
   "execution_count": 5,
   "metadata": {},
   "outputs": [
    {
     "data": {
      "text/plain": [
       "(985122, 11)"
      ]
     },
     "execution_count": 5,
     "metadata": {},
     "output_type": "execute_result"
    }
   ],
   "source": [
    "fires = fires.dropna()\n",
    "fires.shape"
   ]
  },
  {
   "cell_type": "code",
   "execution_count": 6,
   "metadata": {},
   "outputs": [
    {
     "data": {
      "text/plain": [
       "(751376, 11)"
      ]
     },
     "execution_count": 6,
     "metadata": {},
     "output_type": "execute_result"
    }
   ],
   "source": [
    "fires1 = fires[(fires[\"STAT_CAUSE_DESCR\"] != \"Missing/Undefined\") & (fires[\"STAT_CAUSE_DESCR\"] != \"Miscellaneous\")]\n",
    "fires1.shape"
   ]
  },
  {
   "cell_type": "code",
   "execution_count": 7,
   "metadata": {},
   "outputs": [],
   "source": [
    "# fires1[\"combined_date_dis\"] = fires1[\"FIRE_YEAR\"]*1000 + fires1[\"DISCOVERY_DOY\"]\n",
    "# fires1[\"combined_date_dis\"] = pd.to_datetime(fires1[\"combined_date_dis\"], format = \"%Y%j\")\n",
    "# fires1[\"combined_date_dis\"] = pd.to_datetime(fires1[\"combined_date_dis\"])\n",
    "# fires1[\"combined_date_con\"] = fires1[\"FIRE_YEAR\"]*1000 + fires1[\"CONT_DOY\"]\n",
    "# fires1[\"combined_date_con\"] = pd.to_datetime(fires1[\"combined_date_con\"], format = \"%Y%j\",errors=\"ignore\")\n",
    "# fires1[\"combined_date_con\"] = pd.to_datetime(fires1[\"combined_date_con\"],errors=\"coerce\")\n",
    "# fires1[\"week_day\"] = fires1.combined_date_dis.dt.weekday\n",
    "# fires1[\"month\"] = fires1.combined_date_dis.dt.month"
   ]
  },
  {
   "cell_type": "code",
   "execution_count": 8,
   "metadata": {},
   "outputs": [
    {
     "name": "stdout",
     "output_type": "stream",
     "text": [
      "<class 'pandas.core.frame.DataFrame'>\n",
      "Int64Index: 751376 entries, 1 to 1880458\n",
      "Data columns (total 9 columns):\n",
      " #   Column                 Non-Null Count   Dtype  \n",
      "---  ------                 --------------   -----  \n",
      " 0   NWCG_REPORTING_AGENCY  751376 non-null  object \n",
      " 1   CONT_TIME              751376 non-null  float64\n",
      " 2   LONGITUDE              751376 non-null  float64\n",
      " 3   LATITUDE               751376 non-null  float64\n",
      " 4   SOURCE_SYSTEM_TYPE     751376 non-null  object \n",
      " 5   DISCOVERY_DATE         751376 non-null  float64\n",
      " 6   DISCOVERY_DOY          751376 non-null  int64  \n",
      " 7   STAT_CAUSE_DESCR       751376 non-null  object \n",
      " 8   FIRE_SIZE              751376 non-null  float64\n",
      "dtypes: float64(5), int64(1), object(3)\n",
      "memory usage: 57.3+ MB\n"
     ]
    }
   ],
   "source": [
    "# fires1=fires1.drop(['CONT_DOY', 'FIRE_YEAR', 'combined_date_dis', 'combined_date_con'],axis=1)\n",
    "fires1=fires1.drop(['CONT_DOY', 'FIRE_YEAR'],axis=1)\n",
    "fires1.info()"
   ]
  },
  {
   "cell_type": "code",
   "execution_count": 9,
   "metadata": {},
   "outputs": [
    {
     "data": {
      "text/plain": [
       "(676238, 19)"
      ]
     },
     "execution_count": 9,
     "metadata": {},
     "output_type": "execute_result"
    }
   ],
   "source": [
    "xFires=fires1.loc[:,fires1.columns != 'STAT_CAUSE_DESCR']\n",
    "yFires=fires1['STAT_CAUSE_DESCR']\n",
    "xFires=pd.get_dummies(xFires, columns=['NWCG_REPORTING_AGENCY', 'SOURCE_SYSTEM_TYPE'])\n",
    "\n",
    "#Training and test set split\n",
    "xTrain,xTest,yTrain,yTest=train_test_split(xFires,yFires,\\\n",
    "                           test_size=0.1,random_state =441)\n",
    "\n",
    "xTrain.shape\n",
    "# yTrain.shape"
   ]
  },
  {
   "cell_type": "code",
   "execution_count": 10,
   "metadata": {},
   "outputs": [
    {
     "data": {
      "text/plain": [
       "Lightning         204407\n",
       "Debris Burning    166407\n",
       "Arson             130911\n",
       "Campfire           49723\n",
       "Equipment Use      49171\n",
       "Children           26106\n",
       "Smoking            22365\n",
       "Fireworks           9402\n",
       "Powerline           7560\n",
       "Railroad            7459\n",
       "Structure           2727\n",
       "Name: STAT_CAUSE_DESCR, dtype: int64"
      ]
     },
     "execution_count": 10,
     "metadata": {},
     "output_type": "execute_result"
    }
   ],
   "source": [
    "counts = yTrain.value_counts()\n",
    "counts"
   ]
  },
  {
   "cell_type": "code",
   "execution_count": 11,
   "metadata": {},
   "outputs": [],
   "source": [
    "from imblearn.over_sampling import RandomOverSampler\n",
    "\n",
    "def count_under_10000(colname):\n",
    "    if counts[colname] < 10000:\n",
    "        return 10000\n",
    "    return counts[colname]\n",
    "\n",
    "#Perform undersampling\n",
    "OverSampleRatio = {\n",
    "    'Lightning' : count_under_10000('Lightning'), 'Debris Burning' : count_under_10000('Debris Burning'), 'Campfire' : count_under_10000('Campfire'), \n",
    "    'Equipment Use' : count_under_10000('Equipment Use'),    \n",
    "    'Arson' : count_under_10000('Arson'), 'Children' : count_under_10000('Children'), 'Railroad' : count_under_10000('Railroad'),\n",
    "    'Smoking' : count_under_10000('Smoking'), 'Powerline' : count_under_10000('Powerline'),\n",
    "    'Fireworks' : count_under_10000('Fireworks'), 'Structure' : count_under_10000('Structure')\n",
    "}\n",
    "\n",
    "newSampStrat=RandomOverSampler(sampling_strategy=OverSampleRatio,random_state=441) #Goal balance all classes\n",
    "xTrain,yTrain=newSampStrat.fit_resample(xTrain,yTrain) #perform the balancing newX and newY are balanced X and y"
   ]
  },
  {
   "cell_type": "code",
   "execution_count": 12,
   "metadata": {},
   "outputs": [
    {
     "data": {
      "text/plain": [
       "Lightning         204407\n",
       "Debris Burning    166407\n",
       "Arson             130911\n",
       "Campfire           49723\n",
       "Equipment Use      49171\n",
       "Children           26106\n",
       "Smoking            22365\n",
       "Structure          10000\n",
       "Powerline          10000\n",
       "Railroad           10000\n",
       "Fireworks          10000\n",
       "Name: STAT_CAUSE_DESCR, dtype: int64"
      ]
     },
     "execution_count": 12,
     "metadata": {},
     "output_type": "execute_result"
    }
   ],
   "source": [
    "counts = yTrain.value_counts()\n",
    "counts"
   ]
  },
  {
   "cell_type": "code",
   "execution_count": 13,
   "metadata": {},
   "outputs": [],
   "source": [
    "from imblearn.under_sampling import RandomUnderSampler\n",
    "\n",
    "\n",
    "newSampStrat=RandomUnderSampler(sampling_strategy='not minority',random_state=441) #Goal balance all classes\n",
    "xTrain,yTrain=newSampStrat.fit_resample(xTrain,yTrain) #perform the balancing newX and newY are balanced X and y"
   ]
  },
  {
   "cell_type": "code",
   "execution_count": 14,
   "metadata": {},
   "outputs": [
    {
     "data": {
      "text/plain": [
       "Structure         10000\n",
       "Equipment Use     10000\n",
       "Lightning         10000\n",
       "Children          10000\n",
       "Railroad          10000\n",
       "Debris Burning    10000\n",
       "Arson             10000\n",
       "Smoking           10000\n",
       "Powerline         10000\n",
       "Campfire          10000\n",
       "Fireworks         10000\n",
       "Name: STAT_CAUSE_DESCR, dtype: int64"
      ]
     },
     "execution_count": 14,
     "metadata": {},
     "output_type": "execute_result"
    }
   ],
   "source": [
    "yTrain.value_counts()"
   ]
  },
  {
   "cell_type": "code",
   "execution_count": 15,
   "metadata": {},
   "outputs": [],
   "source": [
    "# RBF kernel with covariate scaling\n",
    "model_rbf = Pipeline(\n",
    "    steps=[(\"scaler\", StandardScaler()), \n",
    "           (\"model\", svm.SVC(kernel=\"rbf\"))]\n",
    ")\n",
    "model_to_set = OneVsRestClassifier(model_rbf)\n",
    "\n",
    "# tuning parameter grid\n",
    "# model__xyz specifies that parameter xyz is a parameter to model\n",
    "param_grid = {\n",
    "    \"model__C\": [.01, 1, 100],\n",
    "    \"model__class_weight\": [None, \"balanced\"],\n",
    "    \"model__gamma\": [\"scale\", \"auto\"]\n",
    "}\n",
    "\n",
    "# crossvalidation folds\n",
    "cv = KFold(\n",
    "    n_splits=5,  # number of folds\n",
    "    shuffle=True # protects against data being ordered, e.g., all successes first\n",
    ")\n",
    "\n",
    "cv_rbf_onevall = GridSearchCV(\n",
    "    estimator = model_rbf,\n",
    "    param_grid = param_grid,\n",
    "    cv = cv\n",
    ")"
   ]
  },
  {
   "cell_type": "code",
   "execution_count": 16,
   "metadata": {},
   "outputs": [
    {
     "name": "stdout",
     "output_type": "stream",
     "text": [
      "Wall time: 15h 4min 55s\n"
     ]
    },
    {
     "data": {
      "text/html": [
       "<style>#sk-container-id-1 {color: black;background-color: white;}#sk-container-id-1 pre{padding: 0;}#sk-container-id-1 div.sk-toggleable {background-color: white;}#sk-container-id-1 label.sk-toggleable__label {cursor: pointer;display: block;width: 100%;margin-bottom: 0;padding: 0.3em;box-sizing: border-box;text-align: center;}#sk-container-id-1 label.sk-toggleable__label-arrow:before {content: \"▸\";float: left;margin-right: 0.25em;color: #696969;}#sk-container-id-1 label.sk-toggleable__label-arrow:hover:before {color: black;}#sk-container-id-1 div.sk-estimator:hover label.sk-toggleable__label-arrow:before {color: black;}#sk-container-id-1 div.sk-toggleable__content {max-height: 0;max-width: 0;overflow: hidden;text-align: left;background-color: #f0f8ff;}#sk-container-id-1 div.sk-toggleable__content pre {margin: 0.2em;color: black;border-radius: 0.25em;background-color: #f0f8ff;}#sk-container-id-1 input.sk-toggleable__control:checked~div.sk-toggleable__content {max-height: 200px;max-width: 100%;overflow: auto;}#sk-container-id-1 input.sk-toggleable__control:checked~label.sk-toggleable__label-arrow:before {content: \"▾\";}#sk-container-id-1 div.sk-estimator input.sk-toggleable__control:checked~label.sk-toggleable__label {background-color: #d4ebff;}#sk-container-id-1 div.sk-label input.sk-toggleable__control:checked~label.sk-toggleable__label {background-color: #d4ebff;}#sk-container-id-1 input.sk-hidden--visually {border: 0;clip: rect(1px 1px 1px 1px);clip: rect(1px, 1px, 1px, 1px);height: 1px;margin: -1px;overflow: hidden;padding: 0;position: absolute;width: 1px;}#sk-container-id-1 div.sk-estimator {font-family: monospace;background-color: #f0f8ff;border: 1px dotted black;border-radius: 0.25em;box-sizing: border-box;margin-bottom: 0.5em;}#sk-container-id-1 div.sk-estimator:hover {background-color: #d4ebff;}#sk-container-id-1 div.sk-parallel-item::after {content: \"\";width: 100%;border-bottom: 1px solid gray;flex-grow: 1;}#sk-container-id-1 div.sk-label:hover label.sk-toggleable__label {background-color: #d4ebff;}#sk-container-id-1 div.sk-serial::before {content: \"\";position: absolute;border-left: 1px solid gray;box-sizing: border-box;top: 0;bottom: 0;left: 50%;z-index: 0;}#sk-container-id-1 div.sk-serial {display: flex;flex-direction: column;align-items: center;background-color: white;padding-right: 0.2em;padding-left: 0.2em;position: relative;}#sk-container-id-1 div.sk-item {position: relative;z-index: 1;}#sk-container-id-1 div.sk-parallel {display: flex;align-items: stretch;justify-content: center;background-color: white;position: relative;}#sk-container-id-1 div.sk-item::before, #sk-container-id-1 div.sk-parallel-item::before {content: \"\";position: absolute;border-left: 1px solid gray;box-sizing: border-box;top: 0;bottom: 0;left: 50%;z-index: -1;}#sk-container-id-1 div.sk-parallel-item {display: flex;flex-direction: column;z-index: 1;position: relative;background-color: white;}#sk-container-id-1 div.sk-parallel-item:first-child::after {align-self: flex-end;width: 50%;}#sk-container-id-1 div.sk-parallel-item:last-child::after {align-self: flex-start;width: 50%;}#sk-container-id-1 div.sk-parallel-item:only-child::after {width: 0;}#sk-container-id-1 div.sk-dashed-wrapped {border: 1px dashed gray;margin: 0 0.4em 0.5em 0.4em;box-sizing: border-box;padding-bottom: 0.4em;background-color: white;}#sk-container-id-1 div.sk-label label {font-family: monospace;font-weight: bold;display: inline-block;line-height: 1.2em;}#sk-container-id-1 div.sk-label-container {text-align: center;}#sk-container-id-1 div.sk-container {/* jupyter's `normalize.less` sets `[hidden] { display: none; }` but bootstrap.min.css set `[hidden] { display: none !important; }` so we also need the `!important` here to be able to override the default hidden behavior on the sphinx rendered scikit-learn.org. See: https://github.com/scikit-learn/scikit-learn/issues/21755 */display: inline-block !important;position: relative;}#sk-container-id-1 div.sk-text-repr-fallback {display: none;}</style><div id=\"sk-container-id-1\" class=\"sk-top-container\"><div class=\"sk-text-repr-fallback\"><pre>GridSearchCV(cv=KFold(n_splits=5, random_state=None, shuffle=True),\n",
       "             estimator=Pipeline(steps=[(&#x27;scaler&#x27;, StandardScaler()),\n",
       "                                       (&#x27;model&#x27;, SVC())]),\n",
       "             param_grid={&#x27;model__C&#x27;: [0.01, 1, 100],\n",
       "                         &#x27;model__class_weight&#x27;: [None, &#x27;balanced&#x27;],\n",
       "                         &#x27;model__gamma&#x27;: [&#x27;scale&#x27;, &#x27;auto&#x27;]})</pre><b>In a Jupyter environment, please rerun this cell to show the HTML representation or trust the notebook. <br />On GitHub, the HTML representation is unable to render, please try loading this page with nbviewer.org.</b></div><div class=\"sk-container\" hidden><div class=\"sk-item sk-dashed-wrapped\"><div class=\"sk-label-container\"><div class=\"sk-label sk-toggleable\"><input class=\"sk-toggleable__control sk-hidden--visually\" id=\"sk-estimator-id-1\" type=\"checkbox\" ><label for=\"sk-estimator-id-1\" class=\"sk-toggleable__label sk-toggleable__label-arrow\">GridSearchCV</label><div class=\"sk-toggleable__content\"><pre>GridSearchCV(cv=KFold(n_splits=5, random_state=None, shuffle=True),\n",
       "             estimator=Pipeline(steps=[(&#x27;scaler&#x27;, StandardScaler()),\n",
       "                                       (&#x27;model&#x27;, SVC())]),\n",
       "             param_grid={&#x27;model__C&#x27;: [0.01, 1, 100],\n",
       "                         &#x27;model__class_weight&#x27;: [None, &#x27;balanced&#x27;],\n",
       "                         &#x27;model__gamma&#x27;: [&#x27;scale&#x27;, &#x27;auto&#x27;]})</pre></div></div></div><div class=\"sk-parallel\"><div class=\"sk-parallel-item\"><div class=\"sk-item\"><div class=\"sk-label-container\"><div class=\"sk-label sk-toggleable\"><input class=\"sk-toggleable__control sk-hidden--visually\" id=\"sk-estimator-id-2\" type=\"checkbox\" ><label for=\"sk-estimator-id-2\" class=\"sk-toggleable__label sk-toggleable__label-arrow\">estimator: Pipeline</label><div class=\"sk-toggleable__content\"><pre>Pipeline(steps=[(&#x27;scaler&#x27;, StandardScaler()), (&#x27;model&#x27;, SVC())])</pre></div></div></div><div class=\"sk-serial\"><div class=\"sk-item\"><div class=\"sk-serial\"><div class=\"sk-item\"><div class=\"sk-estimator sk-toggleable\"><input class=\"sk-toggleable__control sk-hidden--visually\" id=\"sk-estimator-id-3\" type=\"checkbox\" ><label for=\"sk-estimator-id-3\" class=\"sk-toggleable__label sk-toggleable__label-arrow\">StandardScaler</label><div class=\"sk-toggleable__content\"><pre>StandardScaler()</pre></div></div></div><div class=\"sk-item\"><div class=\"sk-estimator sk-toggleable\"><input class=\"sk-toggleable__control sk-hidden--visually\" id=\"sk-estimator-id-4\" type=\"checkbox\" ><label for=\"sk-estimator-id-4\" class=\"sk-toggleable__label sk-toggleable__label-arrow\">SVC</label><div class=\"sk-toggleable__content\"><pre>SVC()</pre></div></div></div></div></div></div></div></div></div></div></div></div>"
      ],
      "text/plain": [
       "GridSearchCV(cv=KFold(n_splits=5, random_state=None, shuffle=True),\n",
       "             estimator=Pipeline(steps=[('scaler', StandardScaler()),\n",
       "                                       ('model', SVC())]),\n",
       "             param_grid={'model__C': [0.01, 1, 100],\n",
       "                         'model__class_weight': [None, 'balanced'],\n",
       "                         'model__gamma': ['scale', 'auto']})"
      ]
     },
     "execution_count": 16,
     "metadata": {},
     "output_type": "execute_result"
    }
   ],
   "source": [
    "%%time\n",
    "cv_rbf_onevall.fit(X=xTrain, y=yTrain)"
   ]
  },
  {
   "cell_type": "code",
   "execution_count": 18,
   "metadata": {},
   "outputs": [
    {
     "data": {
      "text/plain": [
       "{'mean_fit_time': array([592.73853679, 595.93523722, 665.49140964, 671.71331196,\n",
       "        507.58613315, 535.73193483, 570.97944741, 578.73534555,\n",
       "        756.79338703, 807.1588387 , 804.34122252, 873.67104511]),\n",
       " 'std_fit_time': array([ 0.63446882,  1.12644403,  3.24754835,  4.88556244,  9.52419806,\n",
       "        18.82196498, 14.8581121 ,  6.62776494,  4.89390872, 68.42738092,\n",
       "        10.62435302, 43.1783417 ]),\n",
       " 'mean_score_time': array([222.19781899, 222.40423155, 222.22548881, 222.63417449,\n",
       "        221.10265083, 225.0935884 , 216.87127857, 213.9867475 ,\n",
       "        207.81057768, 211.19906588, 206.57024803, 220.17426529]),\n",
       " 'std_score_time': array([ 0.13968939,  0.14347161,  0.18562101,  0.45195835, 10.21550987,\n",
       "        11.80446931,  5.57870563,  0.35293487,  3.22504238,  6.86236595,\n",
       "         0.61013407,  6.53181787]),\n",
       " 'param_model__C': masked_array(data=[0.01, 0.01, 0.01, 0.01, 1, 1, 1, 1, 100, 100, 100, 100],\n",
       "              mask=[False, False, False, False, False, False, False, False,\n",
       "                    False, False, False, False],\n",
       "        fill_value='?',\n",
       "             dtype=object),\n",
       " 'param_model__class_weight': masked_array(data=[None, None, 'balanced', 'balanced', None, None,\n",
       "                    'balanced', 'balanced', None, None, 'balanced',\n",
       "                    'balanced'],\n",
       "              mask=[False, False, False, False, False, False, False, False,\n",
       "                    False, False, False, False],\n",
       "        fill_value='?',\n",
       "             dtype=object),\n",
       " 'param_model__gamma': masked_array(data=['scale', 'auto', 'scale', 'auto', 'scale', 'auto',\n",
       "                    'scale', 'auto', 'scale', 'auto', 'scale', 'auto'],\n",
       "              mask=[False, False, False, False, False, False, False, False,\n",
       "                    False, False, False, False],\n",
       "        fill_value='?',\n",
       "             dtype=object),\n",
       " 'params': [{'model__C': 0.01,\n",
       "   'model__class_weight': None,\n",
       "   'model__gamma': 'scale'},\n",
       "  {'model__C': 0.01, 'model__class_weight': None, 'model__gamma': 'auto'},\n",
       "  {'model__C': 0.01,\n",
       "   'model__class_weight': 'balanced',\n",
       "   'model__gamma': 'scale'},\n",
       "  {'model__C': 0.01,\n",
       "   'model__class_weight': 'balanced',\n",
       "   'model__gamma': 'auto'},\n",
       "  {'model__C': 1, 'model__class_weight': None, 'model__gamma': 'scale'},\n",
       "  {'model__C': 1, 'model__class_weight': None, 'model__gamma': 'auto'},\n",
       "  {'model__C': 1, 'model__class_weight': 'balanced', 'model__gamma': 'scale'},\n",
       "  {'model__C': 1, 'model__class_weight': 'balanced', 'model__gamma': 'auto'},\n",
       "  {'model__C': 100, 'model__class_weight': None, 'model__gamma': 'scale'},\n",
       "  {'model__C': 100, 'model__class_weight': None, 'model__gamma': 'auto'},\n",
       "  {'model__C': 100,\n",
       "   'model__class_weight': 'balanced',\n",
       "   'model__gamma': 'scale'},\n",
       "  {'model__C': 100,\n",
       "   'model__class_weight': 'balanced',\n",
       "   'model__gamma': 'auto'}],\n",
       " 'split0_test_score': array([0.25322727, 0.24931818, 0.25363636, 0.24877273, 0.34218182,\n",
       "        0.33918182, 0.34195455, 0.33904545, 0.37377273, 0.37163636,\n",
       "        0.37413636, 0.37195455]),\n",
       " 'split1_test_score': array([0.25668182, 0.25327273, 0.25595455, 0.25290909, 0.34509091,\n",
       "        0.34127273, 0.34445455, 0.34159091, 0.38163636, 0.37781818,\n",
       "        0.38136364, 0.37754545]),\n",
       " 'split2_test_score': array([0.26013636, 0.25486364, 0.25954545, 0.25477273, 0.34109091,\n",
       "        0.33854545, 0.34181818, 0.33881818, 0.38218182, 0.378     ,\n",
       "        0.38159091, 0.37804545]),\n",
       " 'split3_test_score': array([0.25963636, 0.25327273, 0.25731818, 0.25309091, 0.34109091,\n",
       "        0.33881818, 0.3415    , 0.33886364, 0.37581818, 0.37236364,\n",
       "        0.37668182, 0.37272727]),\n",
       " 'split4_test_score': array([0.25840909, 0.25509091, 0.25868182, 0.25518182, 0.34413636,\n",
       "        0.34127273, 0.34422727, 0.34113636, 0.37781818, 0.37318182,\n",
       "        0.37745455, 0.37304545]),\n",
       " 'mean_test_score': array([0.25761818, 0.25316364, 0.25702727, 0.25294545, 0.34271818,\n",
       "        0.33981818, 0.34279091, 0.33989091, 0.37824545, 0.3746    ,\n",
       "        0.37824545, 0.37466364]),\n",
       " 'std_test_score': array([0.00249787, 0.00206957, 0.00208865, 0.00227044, 0.00162633,\n",
       "        0.00120467, 0.00127616, 0.00121342, 0.003258  , 0.00274636,\n",
       "        0.00285903, 0.00258646]),\n",
       " 'rank_test_score': array([ 9, 11, 10, 12,  6,  8,  5,  7,  1,  4,  1,  3])}"
      ]
     },
     "execution_count": 18,
     "metadata": {},
     "output_type": "execute_result"
    }
   ],
   "source": [
    "cv_rbf_onevall.cv_results_"
   ]
  },
  {
   "cell_type": "code",
   "execution_count": 19,
   "metadata": {},
   "outputs": [],
   "source": [
    "final_model = cv_rbf_onevall.best_estimator_"
   ]
  },
  {
   "cell_type": "code",
   "execution_count": 22,
   "metadata": {},
   "outputs": [],
   "source": [
    "yPred = final_model.predict(xTest) "
   ]
  },
  {
   "cell_type": "code",
   "execution_count": 26,
   "metadata": {},
   "outputs": [
    {
     "name": "stdout",
     "output_type": "stream",
     "text": [
      "Test Accuracy: 42.24%\n"
     ]
    }
   ],
   "source": [
    "accuracy = accuracy_score(yTest, yPred)\n",
    "print(\"Test Accuracy: %.2f%%\" % (accuracy * 100.0))"
   ]
  },
  {
   "cell_type": "code",
   "execution_count": 29,
   "metadata": {},
   "outputs": [
    {
     "name": "stdout",
     "output_type": "stream",
     "text": [
      "The best training accuracy score is  37.82454545454546 %\n"
     ]
    }
   ],
   "source": [
    "print(\"The best training accuracy score is \", cv_rbf_onevall.best_score_ * 100, \"%\")"
   ]
  },
  {
   "cell_type": "code",
   "execution_count": 34,
   "metadata": {},
   "outputs": [
    {
     "name": "stdout",
     "output_type": "stream",
     "text": [
      "Wall time: 314 ms\n"
     ]
    }
   ],
   "source": [
    "%%time\n",
    "filename='SVM_model_proposal'\n",
    "pickle.dump(cv_rbf_onevall, open(filename, 'wb')) #Saving the model"
   ]
  },
  {
   "cell_type": "code",
   "execution_count": 42,
   "metadata": {},
   "outputs": [],
   "source": [
    "pickle.dump(yPred, open('predictions', 'wb'))"
   ]
  },
  {
   "cell_type": "code",
   "execution_count": 44,
   "metadata": {},
   "outputs": [
    {
     "data": {
      "text/plain": [
       "array(['Structure', 'Campfire', 'Fireworks', ..., 'Railroad', 'Lightning',\n",
       "       'Structure'], dtype=object)"
      ]
     },
     "execution_count": 44,
     "metadata": {},
     "output_type": "execute_result"
    }
   ],
   "source": [
    "pickle.load(open('predictions', 'rb'))"
   ]
  },
  {
   "cell_type": "code",
   "execution_count": 41,
   "metadata": {},
   "outputs": [
    {
     "data": {
      "text/plain": [
       "array(['Structure', 'Campfire', 'Fireworks', ..., 'Railroad', 'Lightning',\n",
       "       'Structure'], dtype=object)"
      ]
     },
     "execution_count": 41,
     "metadata": {},
     "output_type": "execute_result"
    }
   ],
   "source": [
    "yPred"
   ]
  },
  {
   "cell_type": "code",
   "execution_count": null,
   "metadata": {},
   "outputs": [],
   "source": []
  }
 ],
 "metadata": {
  "kernelspec": {
   "display_name": "Python 3",
   "language": "python",
   "name": "python3"
  },
  "language_info": {
   "codemirror_mode": {
    "name": "ipython",
    "version": 3
   },
   "file_extension": ".py",
   "mimetype": "text/x-python",
   "name": "python",
   "nbconvert_exporter": "python",
   "pygments_lexer": "ipython3",
   "version": "3.8.5"
  }
 },
 "nbformat": 4,
 "nbformat_minor": 4
}
