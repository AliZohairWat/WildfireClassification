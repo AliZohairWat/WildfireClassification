{
 "cells": [
  {
   "cell_type": "code",
   "execution_count": 55,
   "id": "dc144a6a-a6d3-434c-b0ed-ded4cba32c4d",
   "metadata": {},
   "outputs": [],
   "source": [
    "#Load Libraries\n",
    "import pandas as pd\n",
    "import sqlite3 as sqlite3\n",
    "import numpy as np\n",
    "from sklearn.model_selection import train_test_split"
   ]
  },
  {
   "cell_type": "code",
   "execution_count": 39,
   "id": "7473096b",
   "metadata": {},
   "outputs": [],
   "source": [
    "con = sqlite3.connect(\"FPA_FOD_20170508.sqlite\")\n",
    "# Load the data into a DataFrame\n",
    "# Do not need ID here :)\n",
    "Fires = pd.read_sql_query(\n",
    "    \"select OBJECTID as ID, NWCG_REPORTING_AGENCY,CONT_DATE,CONT_DOY,CONT_DATE - DISCOVERY_DATE as CONT_TIME,LONGITUDE,LATITUDE,NWCG_REPORTING_UNIT_ID,SOURCE_REPORTING_UNIT,OWNER_CODE,SOURCE_SYSTEM_TYPE,DISCOVERY_DATE,DISCOVERY_DOY,STAT_CAUSE_DESCR,FIRE_SIZE from fires\", con)\n",
    "con.close()"
   ]
  },
  {
   "cell_type": "code",
   "execution_count": 40,
   "id": "268a6579",
   "metadata": {},
   "outputs": [
    {
     "data": {
      "text/html": [
       "<div>\n",
       "<style scoped>\n",
       "    .dataframe tbody tr th:only-of-type {\n",
       "        vertical-align: middle;\n",
       "    }\n",
       "\n",
       "    .dataframe tbody tr th {\n",
       "        vertical-align: top;\n",
       "    }\n",
       "\n",
       "    .dataframe thead th {\n",
       "        text-align: right;\n",
       "    }\n",
       "</style>\n",
       "<table border=\"1\" class=\"dataframe\">\n",
       "  <thead>\n",
       "    <tr style=\"text-align: right;\">\n",
       "      <th></th>\n",
       "      <th>ID</th>\n",
       "      <th>NWCG_REPORTING_AGENCY</th>\n",
       "      <th>CONT_DATE</th>\n",
       "      <th>CONT_DOY</th>\n",
       "      <th>CONT_TIME</th>\n",
       "      <th>LONGITUDE</th>\n",
       "      <th>LATITUDE</th>\n",
       "      <th>NWCG_REPORTING_UNIT_ID</th>\n",
       "      <th>SOURCE_REPORTING_UNIT</th>\n",
       "      <th>OWNER_CODE</th>\n",
       "      <th>SOURCE_SYSTEM_TYPE</th>\n",
       "      <th>DISCOVERY_DATE</th>\n",
       "      <th>DISCOVERY_DOY</th>\n",
       "      <th>STAT_CAUSE_DESCR</th>\n",
       "      <th>FIRE_SIZE</th>\n",
       "    </tr>\n",
       "  </thead>\n",
       "  <tbody>\n",
       "    <tr>\n",
       "      <th>0</th>\n",
       "      <td>1</td>\n",
       "      <td>FS</td>\n",
       "      <td>2453403.5</td>\n",
       "      <td>33.0</td>\n",
       "      <td>0.0</td>\n",
       "      <td>-121.005833</td>\n",
       "      <td>40.036944</td>\n",
       "      <td>USCAPNF</td>\n",
       "      <td>0511</td>\n",
       "      <td>5.0</td>\n",
       "      <td>FED</td>\n",
       "      <td>2453403.5</td>\n",
       "      <td>33</td>\n",
       "      <td>Miscellaneous</td>\n",
       "      <td>0.10</td>\n",
       "    </tr>\n",
       "    <tr>\n",
       "      <th>1</th>\n",
       "      <td>2</td>\n",
       "      <td>FS</td>\n",
       "      <td>2453137.5</td>\n",
       "      <td>133.0</td>\n",
       "      <td>0.0</td>\n",
       "      <td>-120.404444</td>\n",
       "      <td>38.933056</td>\n",
       "      <td>USCAENF</td>\n",
       "      <td>0503</td>\n",
       "      <td>5.0</td>\n",
       "      <td>FED</td>\n",
       "      <td>2453137.5</td>\n",
       "      <td>133</td>\n",
       "      <td>Lightning</td>\n",
       "      <td>0.25</td>\n",
       "    </tr>\n",
       "    <tr>\n",
       "      <th>2</th>\n",
       "      <td>3</td>\n",
       "      <td>FS</td>\n",
       "      <td>2453156.5</td>\n",
       "      <td>152.0</td>\n",
       "      <td>0.0</td>\n",
       "      <td>-120.735556</td>\n",
       "      <td>38.984167</td>\n",
       "      <td>USCAENF</td>\n",
       "      <td>0503</td>\n",
       "      <td>13.0</td>\n",
       "      <td>FED</td>\n",
       "      <td>2453156.5</td>\n",
       "      <td>152</td>\n",
       "      <td>Debris Burning</td>\n",
       "      <td>0.10</td>\n",
       "    </tr>\n",
       "    <tr>\n",
       "      <th>3</th>\n",
       "      <td>4</td>\n",
       "      <td>FS</td>\n",
       "      <td>2453189.5</td>\n",
       "      <td>185.0</td>\n",
       "      <td>5.0</td>\n",
       "      <td>-119.913333</td>\n",
       "      <td>38.559167</td>\n",
       "      <td>USCAENF</td>\n",
       "      <td>0503</td>\n",
       "      <td>5.0</td>\n",
       "      <td>FED</td>\n",
       "      <td>2453184.5</td>\n",
       "      <td>180</td>\n",
       "      <td>Lightning</td>\n",
       "      <td>0.10</td>\n",
       "    </tr>\n",
       "    <tr>\n",
       "      <th>4</th>\n",
       "      <td>5</td>\n",
       "      <td>FS</td>\n",
       "      <td>2453189.5</td>\n",
       "      <td>185.0</td>\n",
       "      <td>5.0</td>\n",
       "      <td>-119.933056</td>\n",
       "      <td>38.559167</td>\n",
       "      <td>USCAENF</td>\n",
       "      <td>0503</td>\n",
       "      <td>5.0</td>\n",
       "      <td>FED</td>\n",
       "      <td>2453184.5</td>\n",
       "      <td>180</td>\n",
       "      <td>Lightning</td>\n",
       "      <td>0.10</td>\n",
       "    </tr>\n",
       "    <tr>\n",
       "      <th>5</th>\n",
       "      <td>6</td>\n",
       "      <td>FS</td>\n",
       "      <td>2453187.5</td>\n",
       "      <td>183.0</td>\n",
       "      <td>1.0</td>\n",
       "      <td>-120.103611</td>\n",
       "      <td>38.635278</td>\n",
       "      <td>USCAENF</td>\n",
       "      <td>0503</td>\n",
       "      <td>5.0</td>\n",
       "      <td>FED</td>\n",
       "      <td>2453186.5</td>\n",
       "      <td>182</td>\n",
       "      <td>Lightning</td>\n",
       "      <td>0.10</td>\n",
       "    </tr>\n",
       "  </tbody>\n",
       "</table>\n",
       "</div>"
      ],
      "text/plain": [
       "   ID NWCG_REPORTING_AGENCY  CONT_DATE  CONT_DOY  CONT_TIME   LONGITUDE  \\\n",
       "0   1                    FS  2453403.5      33.0        0.0 -121.005833   \n",
       "1   2                    FS  2453137.5     133.0        0.0 -120.404444   \n",
       "2   3                    FS  2453156.5     152.0        0.0 -120.735556   \n",
       "3   4                    FS  2453189.5     185.0        5.0 -119.913333   \n",
       "4   5                    FS  2453189.5     185.0        5.0 -119.933056   \n",
       "5   6                    FS  2453187.5     183.0        1.0 -120.103611   \n",
       "\n",
       "    LATITUDE NWCG_REPORTING_UNIT_ID SOURCE_REPORTING_UNIT  OWNER_CODE  \\\n",
       "0  40.036944                USCAPNF                  0511         5.0   \n",
       "1  38.933056                USCAENF                  0503         5.0   \n",
       "2  38.984167                USCAENF                  0503        13.0   \n",
       "3  38.559167                USCAENF                  0503         5.0   \n",
       "4  38.559167                USCAENF                  0503         5.0   \n",
       "5  38.635278                USCAENF                  0503         5.0   \n",
       "\n",
       "  SOURCE_SYSTEM_TYPE  DISCOVERY_DATE  DISCOVERY_DOY STAT_CAUSE_DESCR  \\\n",
       "0                FED       2453403.5             33    Miscellaneous   \n",
       "1                FED       2453137.5            133        Lightning   \n",
       "2                FED       2453156.5            152   Debris Burning   \n",
       "3                FED       2453184.5            180        Lightning   \n",
       "4                FED       2453184.5            180        Lightning   \n",
       "5                FED       2453186.5            182        Lightning   \n",
       "\n",
       "   FIRE_SIZE  \n",
       "0       0.10  \n",
       "1       0.25  \n",
       "2       0.10  \n",
       "3       0.10  \n",
       "4       0.10  \n",
       "5       0.10  "
      ]
     },
     "execution_count": 40,
     "metadata": {},
     "output_type": "execute_result"
    }
   ],
   "source": [
    "Fires.head(6)"
   ]
  },
  {
   "cell_type": "code",
   "execution_count": 41,
   "id": "181e12dd",
   "metadata": {},
   "outputs": [],
   "source": [
    "# Remove rows with any missing values(NaN)\n",
    "Fires=Fires.dropna(how=\"any\")"
   ]
  },
  {
   "cell_type": "code",
   "execution_count": 42,
   "id": "f8fb938d",
   "metadata": {},
   "outputs": [],
   "source": [
    "# Remove the miscellaneous class\n",
    "Fires=Fires[Fires.STAT_CAUSE_DESCR != \"Miscellaneous\"]"
   ]
  },
  {
   "cell_type": "code",
   "execution_count": 43,
   "id": "ae03448f",
   "metadata": {},
   "outputs": [
    {
     "name": "stdout",
     "output_type": "stream",
     "text": [
      "<class 'pandas.core.frame.DataFrame'>\n",
      "Int64Index: 825771 entries, 1 to 1880460\n",
      "Data columns (total 15 columns):\n",
      " #   Column                  Non-Null Count   Dtype  \n",
      "---  ------                  --------------   -----  \n",
      " 0   ID                      825771 non-null  int64  \n",
      " 1   NWCG_REPORTING_AGENCY   825771 non-null  object \n",
      " 2   CONT_DATE               825771 non-null  float64\n",
      " 3   CONT_DOY                825771 non-null  float64\n",
      " 4   CONT_TIME               825771 non-null  float64\n",
      " 5   LONGITUDE               825771 non-null  float64\n",
      " 6   LATITUDE                825771 non-null  float64\n",
      " 7   NWCG_REPORTING_UNIT_ID  825771 non-null  object \n",
      " 8   SOURCE_REPORTING_UNIT   825771 non-null  object \n",
      " 9   OWNER_CODE              825771 non-null  float64\n",
      " 10  SOURCE_SYSTEM_TYPE      825771 non-null  object \n",
      " 11  DISCOVERY_DATE          825771 non-null  float64\n",
      " 12  DISCOVERY_DOY           825771 non-null  int64  \n",
      " 13  STAT_CAUSE_DESCR        825771 non-null  object \n",
      " 14  FIRE_SIZE               825771 non-null  float64\n",
      "dtypes: float64(8), int64(2), object(5)\n",
      "memory usage: 100.8+ MB\n"
     ]
    }
   ],
   "source": [
    "Fires.info()"
   ]
  },
  {
   "cell_type": "code",
   "execution_count": 47,
   "id": "b2500274",
   "metadata": {},
   "outputs": [],
   "source": [
    "# Split the Fires data into 90% train data and 10% test data\n",
    "# Here need to find out how to make the split repeatable\n",
    "Fires_train, Fires_test =  train_test_split(Fires, test_size=0.1)"
   ]
  },
  {
   "cell_type": "code",
   "execution_count": 51,
   "id": "576a6b71",
   "metadata": {},
   "outputs": [
    {
     "name": "stdout",
     "output_type": "stream",
     "text": [
      "Display the datatype of the test dataset: <class 'pandas.core.frame.DataFrame'>\n",
      " Train dataset      : (743193, 15)\n",
      " Test dataset       : (82578, 15)\n"
     ]
    }
   ],
   "source": [
    "print(f\"Display the datatype of the test dataset: {type(Fires_test)}\")\n",
    "print(f\" Train dataset      : {Fires_train.shape}\")\n",
    "print(f\" Test dataset       : {Fires_test.shape}\")"
   ]
  },
  {
   "cell_type": "markdown",
   "id": "a75f5c9b",
   "metadata": {},
   "source": [
    "## Random Undersampling the Training Data\n",
    "### Using random undersampling temporarily, may use more advanced method later"
   ]
  },
  {
   "cell_type": "code",
   "execution_count": 53,
   "id": "2b021d0f",
   "metadata": {},
   "outputs": [
    {
     "data": {
      "text/plain": [
       "2712"
      ]
     },
     "execution_count": 53,
     "metadata": {},
     "output_type": "execute_result"
    }
   ],
   "source": [
    "minority_class_len = len(Fires_train[Fires_train.STAT_CAUSE_DESCR==\"Structure\"])\n",
    "minority_class_len"
   ]
  },
  {
   "cell_type": "code",
   "execution_count": 94,
   "id": "de159fd1",
   "metadata": {},
   "outputs": [
    {
     "name": "stdout",
     "output_type": "stream",
     "text": [
      "['Campfire' 'Missing/Undefined' 'Lightning' 'Arson' 'Equipment Use'\n",
      " 'Debris Burning' 'Smoking' 'Children' 'Railroad' 'Powerline' 'Fireworks'\n",
      " 'Structure']\n"
     ]
    },
    {
     "data": {
      "text/plain": [
       "array(['Campfire', 'Missing/Undefined', 'Lightning', 'Arson',\n",
       "       'Equipment Use', 'Debris Burning', 'Smoking', 'Children',\n",
       "       'Railroad', 'Powerline', 'Fireworks'], dtype=object)"
      ]
     },
     "execution_count": 94,
     "metadata": {},
     "output_type": "execute_result"
    }
   ],
   "source": [
    "# Select unique values from the response column\n",
    "CAUSES = Fires_train[\"STAT_CAUSE_DESCR\"].unique()\n",
    "print(CAUSES)\n",
    "# Delete the minority class: Structure\n",
    "index = len(CAUSES)-1\n",
    "CAUSES = np.delete(CAUSES,index)\n",
    "CAUSES"
   ]
  },
  {
   "cell_type": "code",
   "execution_count": 97,
   "id": "c84eb930",
   "metadata": {},
   "outputs": [],
   "source": [
    "# \n",
    "undersampled_indices=Fires_train[Fires_train.STAT_CAUSE_DESCR=='Structure'].index\n",
    "# Generate the indices of the undersampled dataset\n",
    "for cause in CAUSES:\n",
    "    cause_index = Fires_train[Fires_train.STAT_CAUSE_DESCR==cause].index\n",
    "    undersampled_cause_index = np.random.choice(cause_index,\n",
    "                                               minority_class_len,\n",
    "                                               replace=False)\n",
    "    undersampled_indices=np.concatenate([undersampled_indices,\n",
    "                                        undersampled_cause_index])\n",
    "\n",
    "# Generate the undersampled training dataset\n",
    "train_undersampled = Fires_train.loc[undersampled_indices]"
   ]
  },
  {
   "cell_type": "code",
   "execution_count": 98,
   "id": "f735a572",
   "metadata": {},
   "outputs": [
    {
     "data": {
      "text/plain": [
       "(32544, 15)"
      ]
     },
     "execution_count": 98,
     "metadata": {},
     "output_type": "execute_result"
    }
   ],
   "source": [
    "train_undersampled.shape"
   ]
  },
  {
   "cell_type": "code",
   "execution_count": 100,
   "id": "350b4709",
   "metadata": {},
   "outputs": [
    {
     "name": "stdout",
     "output_type": "stream",
     "text": [
      "<class 'pandas.core.frame.DataFrame'>\n",
      "Int64Index: 32544 entries, 263399 to 1736395\n",
      "Data columns (total 15 columns):\n",
      " #   Column                  Non-Null Count  Dtype  \n",
      "---  ------                  --------------  -----  \n",
      " 0   ID                      32544 non-null  int64  \n",
      " 1   NWCG_REPORTING_AGENCY   32544 non-null  object \n",
      " 2   CONT_DATE               32544 non-null  float64\n",
      " 3   CONT_DOY                32544 non-null  float64\n",
      " 4   CONT_TIME               32544 non-null  float64\n",
      " 5   LONGITUDE               32544 non-null  float64\n",
      " 6   LATITUDE                32544 non-null  float64\n",
      " 7   NWCG_REPORTING_UNIT_ID  32544 non-null  object \n",
      " 8   SOURCE_REPORTING_UNIT   32544 non-null  object \n",
      " 9   OWNER_CODE              32544 non-null  float64\n",
      " 10  SOURCE_SYSTEM_TYPE      32544 non-null  object \n",
      " 11  DISCOVERY_DATE          32544 non-null  float64\n",
      " 12  DISCOVERY_DOY           32544 non-null  int64  \n",
      " 13  STAT_CAUSE_DESCR        32544 non-null  object \n",
      " 14  FIRE_SIZE               32544 non-null  float64\n",
      "dtypes: float64(8), int64(2), object(5)\n",
      "memory usage: 4.0+ MB\n"
     ]
    }
   ],
   "source": [
    "train_undersampled.info()"
   ]
  },
  {
   "cell_type": "code",
   "execution_count": null,
   "id": "ccee12e7",
   "metadata": {},
   "outputs": [],
   "source": []
  }
 ],
 "metadata": {
  "kernelspec": {
   "display_name": "Python 3 (ipykernel)",
   "language": "python",
   "name": "python3"
  },
  "language_info": {
   "codemirror_mode": {
    "name": "ipython",
    "version": 3
   },
   "file_extension": ".py",
   "mimetype": "text/x-python",
   "name": "python",
   "nbconvert_exporter": "python",
   "pygments_lexer": "ipython3",
   "version": "3.10.9"
  }
 },
 "nbformat": 4,
 "nbformat_minor": 5
}
